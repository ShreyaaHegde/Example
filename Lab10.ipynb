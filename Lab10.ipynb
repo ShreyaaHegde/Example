{
 "cells": [
  {
   "cell_type": "code",
   "execution_count": 15,
   "id": "824f9f65",
   "metadata": {
    "executionInfo": {
     "elapsed": 14136,
     "status": "ok",
     "timestamp": 1722605136303,
     "user": {
      "displayName": "Divya T.L.",
      "userId": "06144781758931208850"
     },
     "user_tz": -330
    },
    "id": "824f9f65"
   },
   "outputs": [],
   "source": [
    "import numpy as np\n",
    "import keras\n",
    "from keras.datasets import mnist\n",
    "from keras import models\n",
    "from keras.layers import Dense, Input\n",
    "from keras.layers import Conv2D, MaxPooling2D, Dropout, Flatten\n",
    "from keras import backend as k"
   ]
  },
  {
   "cell_type": "code",
   "execution_count": 16,
   "id": "4bed7306",
   "metadata": {
    "id": "4bed7306",
    "outputId": "81cbb085-7bd3-42fb-f890-55813e45b198"
   },
   "outputs": [],
   "source": [
    "(train_images, train_labels), (test_images, test_labels) = mnist.load_data()\n",
    "train_images = train_images.reshape((60000, 28, 28, 1))\n",
    "test_images = test_images.reshape((10000, 28, 28, 1))"
   ]
  },
  {
   "cell_type": "code",
   "execution_count": 17,
   "id": "837e40d8",
   "metadata": {
    "id": "837e40d8"
   },
   "outputs": [],
   "source": [
    "train_images = train_images.astype('float32') / 255\n",
    "test_images = test_images.astype('float32') / 255\n"
   ]
  },
  {
   "cell_type": "code",
   "execution_count": 18,
   "id": "778637ae",
   "metadata": {
    "id": "778637ae"
   },
   "outputs": [],
   "source": [
    "train_labels = keras.utils.to_categorical(train_labels)\n",
    "test_labels = keras.utils.to_categorical(test_labels)\n"
   ]
  },
  {
   "cell_type": "code",
   "execution_count": 19,
   "id": "905f8c2c",
   "metadata": {
    "id": "905f8c2c"
   },
   "outputs": [
    {
     "name": "stderr",
     "output_type": "stream",
     "text": [
      "/home/shreya/anaconda3/lib/python3.11/site-packages/keras/src/layers/convolutional/base_conv.py:107: UserWarning: Do not pass an `input_shape`/`input_dim` argument to a layer. When using Sequential models, prefer using an `Input(shape)` object as the first layer in the model instead.\n",
      "  super().__init__(activity_regularizer=activity_regularizer, **kwargs)\n"
     ]
    }
   ],
   "source": [
    "model = models.Sequential()\n",
    "model.add(Conv2D(32, (3, 3), activation='relu', input_shape=(28, 28, 1)))\n",
    "model.add(MaxPooling2D((2, 2)))\n",
    "model.add(Conv2D(48, (3, 3), activation='relu'))\n",
    "model.add(MaxPooling2D((2, 2)))\n",
    "model.add(Dropout(0.5))\n",
    "model.add(Flatten())\n",
    "model.add(Dense(500, activation='relu'))\n",
    "model.add(Dense(10, activation='softmax'))"
   ]
  },
  {
   "cell_type": "code",
   "execution_count": 20,
   "id": "ae13656e",
   "metadata": {
    "id": "ae13656e"
   },
   "outputs": [],
   "source": [
    "model.compile(optimizer='adam',\n",
    "              loss='categorical_crossentropy',\n",
    "              metrics=['accuracy'])"
   ]
  },
  {
   "cell_type": "code",
   "execution_count": 21,
   "id": "b0c85b41",
   "metadata": {
    "id": "b0c85b41",
    "outputId": "dfaa7e12-145a-417e-9362-7a0b09335b12"
   },
   "outputs": [
    {
     "name": "stdout",
     "output_type": "stream",
     "text": [
      "Epoch 1/10\n"
     ]
    },
    {
     "name": "stderr",
     "output_type": "stream",
     "text": [
      "2024-09-09 03:13:19.330485: W external/local_tsl/tsl/framework/cpu_allocator_impl.cc:83] Allocation of 169344000 exceeds 10% of free system memory.\n"
     ]
    },
    {
     "name": "stdout",
     "output_type": "stream",
     "text": [
      "422/422 - 20s - 48ms/step - accuracy: 0.9273 - loss: 0.2397 - val_accuracy: 0.9822 - val_loss: 0.0596\n",
      "Epoch 2/10\n",
      "422/422 - 18s - 43ms/step - accuracy: 0.9753 - loss: 0.0800 - val_accuracy: 0.9877 - val_loss: 0.0406\n",
      "Epoch 3/10\n",
      "422/422 - 17s - 41ms/step - accuracy: 0.9811 - loss: 0.0591 - val_accuracy: 0.9922 - val_loss: 0.0311\n",
      "Epoch 4/10\n",
      "422/422 - 17s - 41ms/step - accuracy: 0.9845 - loss: 0.0485 - val_accuracy: 0.9895 - val_loss: 0.0357\n",
      "Epoch 5/10\n",
      "422/422 - 17s - 41ms/step - accuracy: 0.9876 - loss: 0.0398 - val_accuracy: 0.9927 - val_loss: 0.0269\n",
      "Epoch 6/10\n",
      "422/422 - 17s - 41ms/step - accuracy: 0.9881 - loss: 0.0367 - val_accuracy: 0.9933 - val_loss: 0.0258\n",
      "Epoch 7/10\n",
      "422/422 - 17s - 41ms/step - accuracy: 0.9903 - loss: 0.0297 - val_accuracy: 0.9923 - val_loss: 0.0293\n",
      "Epoch 8/10\n",
      "422/422 - 17s - 41ms/step - accuracy: 0.9903 - loss: 0.0292 - val_accuracy: 0.9925 - val_loss: 0.0306\n",
      "Epoch 9/10\n",
      "422/422 - 17s - 41ms/step - accuracy: 0.9918 - loss: 0.0258 - val_accuracy: 0.9925 - val_loss: 0.0284\n",
      "Epoch 10/10\n",
      "422/422 - 17s - 41ms/step - accuracy: 0.9919 - loss: 0.0247 - val_accuracy: 0.9925 - val_loss: 0.0289\n"
     ]
    },
    {
     "data": {
      "text/plain": [
       "<keras.src.callbacks.history.History at 0x75dec1a484d0>"
      ]
     },
     "execution_count": 21,
     "metadata": {},
     "output_type": "execute_result"
    }
   ],
   "source": [
    "model.fit(train_images, train_labels, epochs=10, batch_size=128,verbose=2,validation_split=0.1)"
   ]
  },
  {
   "cell_type": "code",
   "execution_count": 22,
   "id": "c5040ff0",
   "metadata": {
    "id": "c5040ff0",
    "outputId": "b14c171a-83e4-4c6c-bdd7-5b1fe37f9f50"
   },
   "outputs": [
    {
     "name": "stdout",
     "output_type": "stream",
     "text": [
      "\u001b[1m313/313\u001b[0m \u001b[32m━━━━━━━━━━━━━━━━━━━━\u001b[0m\u001b[37m\u001b[0m \u001b[1m1s\u001b[0m 4ms/step - accuracy: 0.9904 - loss: 0.0250\n",
      "Test accuracy: 0.9919999837875366\n"
     ]
    }
   ],
   "source": [
    "test_loss, test_acc = model.evaluate(test_images, test_labels)\n",
    "print('Test accuracy:', test_acc)"
   ]
  },
  {
   "cell_type": "code",
   "execution_count": 12,
   "id": "94a05d65",
   "metadata": {
    "id": "94a05d65",
    "outputId": "9260a8ee-4292-46d8-a017-367793e22ab3"
   },
   "outputs": [
    {
     "name": "stdout",
     "output_type": "stream",
     "text": [
      "\u001b[1m1/1\u001b[0m \u001b[32m━━━━━━━━━━━━━━━━━━━━\u001b[0m\u001b[37m\u001b[0m \u001b[1m0s\u001b[0m 18ms/step\n",
      "Predicted Label: 6\n",
      "Actual Label: 6\n"
     ]
    },
    {
     "data": {
      "image/png": "[encoded data removed]",
      "text/plain": [
       "<Figure size 640x480 with 1 Axes>"
      ]
     },
     "metadata": {},
     "output_type": "display_data"
    }
   ],
   "source": [
    "import numpy as np\n",
    "image_index=21\n",
    "\n",
    "image = np.reshape(test_images[image_index], (1, 28, 28, 1))\n",
    "\n",
    "predictions = model.predict(image)\n",
    "predicted_label = np.argmax(predictions)\n",
    "\n",
    "actual_label = np.argmax(test_labels[image_index])\n",
    "\n",
    "print(f\"Predicted Label: {predicted_label}\")\n",
    "print(f\"Actual Label: {actual_label}\")\n",
    "\n",
    "import matplotlib.pyplot as plt\n",
    "\n",
    "plt.imshow(np.squeeze(test_images[image_index]), cmap='gray')\n",
    "plt.show()\n"
   ]
  },
  {
   "cell_type": "code",
   "execution_count": 13,
   "id": "074d9236-80c4-4ac7-8bf9-2521d3f4b05e",
   "metadata": {
    "id": "074d9236-80c4-4ac7-8bf9-2521d3f4b05e"
   },
   "outputs": [
    {
     "data": {
      "text/plain": [
       "<matplotlib.image.AxesImage at 0x75dec24b5610>"
      ]
     },
     "execution_count": 13,
     "metadata": {},
     "output_type": "execute_result"
    },
    {
     "data": {
      "image/png": "[encoded data removed]",
      "text/plain": [
       "<Figure size 640x480 with 1 Axes>"
      ]
     },
     "metadata": {},
     "output_type": "display_data"
    }
   ],
   "source": [
    "plt.imshow(np.squeeze(test_images[10]), cmap='gray')"
   ]
  },
  {
   "cell_type": "code",
   "execution_count": null,
   "id": "4e216bb2",
   "metadata": {},
   "outputs": [],
   "source": []
  },
  {
   "cell_type": "code",
   "execution_count": null,
   "id": "bf164c91",
   "metadata": {},
   "outputs": [],
   "source": []
  },
  {
   "cell_type": "code",
   "execution_count": null,
   "id": "32f01e28-0887-47ad-a0a6-285737be28bf",
   "metadata": {},
   "outputs": [],
   "source": []
  },
  {
   "cell_type": "code",
   "execution_count": null,
   "id": "6ed3f68b-d5ec-4b1a-95d2-461ce3c3bd61",
   "metadata": {},
   "outputs": [],
   "source": []
  }
 ],
 "metadata": {
  "colab": {
   "provenance": []
  },
  "kernelspec": {
   "display_name": "Python 3 (ipykernel)",
   "language": "python",
   "name": "python3"
  },
  "language_info": {
   "codemirror_mode": {
    "name": "ipython",
    "version": 3
   },
   "file_extension": ".py",
   "mimetype": "text/x-python",
   "name": "python",
   "nbconvert_exporter": "python",
   "pygments_lexer": "ipython3",
   "version": "3.11.7"
  }
 },
 "nbformat": 4,
 "nbformat_minor": 5
}
